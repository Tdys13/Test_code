{
 "cells": [
  {
   "cell_type": "code",
   "execution_count": 1,
   "metadata": {},
   "outputs": [],
   "source": [
    "import chainer\n",
    "import chainer.functions as F\n",
    "import chainer.links as L"
   ]
  },
  {
   "cell_type": "code",
   "execution_count": 2,
   "metadata": {},
   "outputs": [
    {
     "ename": "SyntaxError",
     "evalue": "invalid character in identifier (<ipython-input-2-26b0d95bf9ad>, line 4)",
     "output_type": "error",
     "traceback": [
      "\u001b[0;36m  File \u001b[0;32m\"<ipython-input-2-26b0d95bf9ad>\"\u001b[0;36m, line \u001b[0;32m4\u001b[0m\n\u001b[0;31m    conv1　=　L.Convolution2D(1, 32, 3,　strid=2),   #300->296->148\u001b[0m\n\u001b[0m         ^\u001b[0m\n\u001b[0;31mSyntaxError\u001b[0m\u001b[0;31m:\u001b[0m invalid character in identifier\n"
     ]
    }
   ],
   "source": [
    "class OriginalCNN(chainer.Chain):\n",
    "    def __init__(self):\n",
    "        super(OriginalCNN,self).__init__(\n",
    "        conv1　=　L.Convolution2D(1, 32, 3,　strid=2),   #300->296->148\n",
    "        conv2　=　L.Convolution2D(32, 64, 3,　strid=2),  #148->144->72\n",
    "        conv3　=　L.Convolution2D(64, 64, 3,　strid=2),   #72->68->34\n",
    "        conv4　=　L.Convolution2D(64, 128, 3,　strid=2),  #34->30->15\n",
    "        conv5　=　L.Convolution2D(128, 128, 3),\n",
    "        conv6　=　L.Convolution2D(128, 256, 3),\n",
    "        conv7　=　L.Convolution2D(256, 256, 3),\n",
    "        conv8　=　L.Convolution2D(256, 512, 3),\n",
    "        conv9　=　L.Convolution2D(512, 512, 3),\n",
    "        conv10　=　L.Convolution2D(512, 1024, 3),\n",
    "        conv11　=　L.Convolution2D(1024, 2048, 3),\n",
    "        l1　=　L.Linear(None, 256),            \n",
    "        l2　=　L.Linear(None, class_labels)\n",
    "        )\n",
    "        \n",
    "    def __call__(self, x1_data, x2_data):\n",
    "        x1 = chainer.Variable(x1_data.astype(np.float32))\n",
    "        h1 = F.max_pooling_2d(F.relu(self.conv1(x1)), 2)\n",
    "        h2 = F.max_pooling_2d(F.relu(self.conv1(h1)), 2)\n",
    "        h3 = F.max_pooling_2d(F.relu(self.conv1(h2)), 2)\n",
    "        h4 = F.max_pooling_2d(F.relu(self.conv1(h3)), 2)\n",
    "        h5 = F.relu(self.conv5(h4))\n",
    "        h6 = F.relu(self.conv6(h5))\n",
    "        h7 = F.relu(self.conv7(h6))\n",
    "        h8 = F.relu(self.conv8(h7))\n",
    "        h9 = F.relu(self.conv9(h8))\n",
    "        h10 = F.relu(self.conv10(h9))\n",
    "        h11 = F.relu(self.conv10(h10))\n",
    "        h12 = F.relu(self.conv11(h11))\n",
    "        h13 = F.dropout(F.relu(self.l1(h12)))      \n",
    "        y = F.relu(self.l2(h13))\n",
    "        return y\n",
    "\n",
    "if __name__ == '__main__':\n",
    "    import numpy as np\n",
    "    model = OriginalCNN(class_labels=2)\n",
    "    output = model((np.zeros((2, 3, 300, 300), dtype=np.float32)))\n",
    "    print(output)"
   ]
  },
  {
   "cell_type": "code",
   "execution_count": 6,
   "metadata": {},
   "outputs": [
    {
     "data": {
      "text/plain": [
       "'\\nif gpu_flag >= 0:\\n    cuda.get_device(gpu_flag).use()\\n    model.to_gpu()\\n'"
      ]
     },
     "execution_count": 6,
     "metadata": {},
     "output_type": "execute_result"
    }
   ],
   "source": [
    "import chainer\n",
    "import chainer.functions as F\n",
    "import chainer.links as L\n",
    "\n",
    "class OriginalCNN(chainer.Chain):\n",
    "\n",
    "    def __init__(self, class_labels):\n",
    "        super().__init__()\n",
    "\n",
    "        with self.init_scope():\n",
    "            self.conv1 = L.Convolution2D(None, 32, 3, stride=2)\n",
    "            self.conv2 = L.Convolution2D(None, 64, 3, stride=2)\n",
    "            self.conv3 = L.Convolution2D(None, 64, 3, stride=2)\n",
    "            self.conv4 = L.Convolution2D(None, 128, 3, stride=2)\n",
    "            self.conv5 = L.Convolution2D(None, 128, 3)\n",
    "            self.conv6 = L.Convolution2D(None, 256, 3)\n",
    "            self.conv7 = L.Convolution2D(None, 256, 3)\n",
    "            self.conv8 = L.Convolution2D(None, 512, 3)\n",
    "            self.conv9 = L.Convolution2D(None, 512, 3)\n",
    "            self.conv10 = L.Convolution2D(None, 1024, 3, stride=2)\n",
    "            self.conv11 = L.Convolution2D(None, 2048, 3, stride=2)\n",
    "            self.l1 = L.Linear(None, 256)\n",
    "            self.l2 = L.Linear(None, class_labels)\n",
    "\n",
    "    def forward(self, x):\n",
    "        # h = F.max_pooling_2d(F.relu(self.conv1(x)), 2)\n",
    "        # h = F.max_pooling_2d(F.relu(self.conv2(h)), 2)\n",
    "        # h = F.max_pooling_2d(F.relu(self.conv3(h)), 2)\n",
    "        # h = F.max_pooling_2d(F.relu(self.conv4(h)), 2)\n",
    "        h = F.relu(self.conv1(x))\n",
    "        h = F.relu(self.conv2(h))\n",
    "        h = F.relu(self.conv3(h))\n",
    "        h = F.relu(self.conv4(h))\n",
    "\n",
    "        h = F.relu(self.conv5(h))\n",
    "        h = F.relu(self.conv6(h))\n",
    "\n",
    "        h = F.relu(self.conv7(h))\n",
    "        h = F.relu(self.conv8(h))\n",
    "        h = F.relu(self.conv9(h))\n",
    "        h = F.relu(self.conv10(h))\n",
    "        h = F.relu(self.conv11(h))\n",
    "\n",
    "        h = F.dropout(F.relu(self.l1(h)))\n",
    "        y = F.relu(self.l2(h))\n",
    "        return y\n",
    "\n",
    "\n",
    "if __name__ == '__main__':\n",
    "    import numpy as np\n",
    "    model = OriginalCNN(class_labels=2)\n",
    "    output = model((np.zeros((2, 3, 300, 300), dtype=np.float32)))\n",
    "    print(output)"
   ]
  },
  {
   "cell_type": "code",
   "execution_count": null,
   "metadata": {},
   "outputs": [],
   "source": []
  }
 ],
 "metadata": {
  "kernelspec": {
   "display_name": "Python 3",
   "language": "python",
   "name": "python3"
  },
  "language_info": {
   "codemirror_mode": {
    "name": "ipython",
    "version": 3
   },
   "file_extension": ".py",
   "mimetype": "text/x-python",
   "name": "python",
   "nbconvert_exporter": "python",
   "pygments_lexer": "ipython3",
   "version": "3.6.6"
  }
 },
 "nbformat": 4,
 "nbformat_minor": 2
}
