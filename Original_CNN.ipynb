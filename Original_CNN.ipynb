{
 "cells": [
  {
   "cell_type": "code",
   "execution_count": 13,
   "metadata": {},
   "outputs": [
    {
     "name": "stdout",
     "output_type": "stream",
     "text": [
      "variable([[ 0.  0.]\n",
      "          [ 0.  0.]])\n",
      "(2, 2)\n"
     ]
    }
   ],
   "source": [
    "import chainer\n",
    "import chainer.functions as F\n",
    "import chainer.links as L\n",
    "\n",
    "class OriginalCNN(chainer.Chain):\n",
    "    \n",
    "    def __init__(self, class_labels):\n",
    "        super().__init__()\n",
    "        \n",
    "        with self.init_scope():\n",
    "            self.conv1 = L.Convolution2D(None, 32, 3)\n",
    "            self.conv2 = L.Convolution2D(None, 64, 3,stride=2)\n",
    "            self.conv3 = L.Convolution2D(None, 64, 3,stride=2)\n",
    "            self.conv4 = L.Convolution2D(None, 128, 3,stride=2)\n",
    "            self.conv5 = L.Convolution2D(None, 128, 3)\n",
    "            self.conv6 = L.Convolution2D(None, 256, 3)\n",
    "            self.conv7 = L.Convolution2D(None, 256, 3)\n",
    "            self.conv8 = L.Convolution2D(None, 512, 3)\n",
    "            self.conv9 = L.Convolution2D(None, 512, 3)\n",
    "            self.conv10 = L.Convolution2D(None, 1024, 3)\n",
    "            self.conv11 = L.Convolution2D(None, 2048, 3)\n",
    "            self.conv12 = L.Convolution2D(None, 2048, 3)\n",
    "            self.l1 = L.Linear(None, 256)\n",
    "            self.l2 = L.Linear(None, class_labels)\n",
    "    \n",
    "        \n",
    "    def forward(self, x):\n",
    "        x1 = chainer.Variable(x)\n",
    "        h1 = F.max_pooling_2d(F.relu(self.conv1(x1)), 2)\n",
    "        h2 = F.relu(self.conv2(h1))\n",
    "        h3 = F.relu(self.conv3(h2))\n",
    "        h4 = F.relu(self.conv4(h3))\n",
    "        h5 = F.relu(self.conv5(h4))\n",
    "        h6 = F.relu(self.conv6(h5))\n",
    "        h7 = F.relu(self.conv7(h6))\n",
    "        h8 = F.relu(self.conv8(h7))\n",
    "        h9 = F.relu(self.conv9(h8))\n",
    "        h10 = F.relu(self.conv10(h9))\n",
    "        h11 = F.relu(self.conv11(h10))\n",
    "        h12 = F.relu(self.conv12(h11))\n",
    "        h13 = F.dropout(F.relu(self.l1(h12)))      \n",
    "        y = F.relu(self.l2(h13))\n",
    "        return y\n",
    "\n",
    "if __name__ == '__main__':\n",
    "    import numpy as np\n",
    "    model = OriginalCNN(class_labels=2)\n",
    "    output = model((np.zeros((2, 3, 300, 300), dtype=np.float32)))\n",
    "    print(output)\n",
    "    print(output.shape)"
   ]
  },
  {
   "cell_type": "code",
   "execution_count": null,
   "metadata": {},
   "outputs": [],
   "source": []
  }
 ],
 "metadata": {
  "kernelspec": {
   "display_name": "Python 3",
   "language": "python",
   "name": "python3"
  },
  "language_info": {
   "codemirror_mode": {
    "name": "ipython",
    "version": 3
   },
   "file_extension": ".py",
   "mimetype": "text/x-python",
   "name": "python",
   "nbconvert_exporter": "python",
   "pygments_lexer": "ipython3",
   "version": "3.6.6"
  }
 },
 "nbformat": 4,
 "nbformat_minor": 2
}
