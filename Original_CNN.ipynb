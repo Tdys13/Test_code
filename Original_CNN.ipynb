{
 "cells": [
  {
   "cell_type": "code",
   "execution_count": 1,
   "metadata": {},
   "outputs": [],
   "source": [
    "import numpy as np\n",
    "import chainer\n",
    "import chainer.functions as F\n",
    "import chainer.links as L\n",
    "from chainer import optimizers\n",
    "from chainer import  serializers\n",
    "import time\n",
    "import pylab\n",
    "import matplotlib.pyplot as plt\n",
    "import pickle\n",
    "import csv\n"
   ]
  },
  {
   "cell_type": "code",
   "execution_count": 7,
   "metadata": {},
   "outputs": [],
   "source": [
    "class OriginalCNN(chainer.Chain):\n",
    "    def __init__(self):\n",
    "        super(OriginalCNN,self).__init__(\n",
    "        conv1　=　L.Convolution2D(1, 32, 3,　strid=2),   #300->296->148\n",
    "        conv2　=　L.Convolution2D(32, 64, 3,　strid=2),  #148->144->72\n",
    "        conv3　=　L.Convolution2D(64, 64, 3,　strid=2),   #72->68->34\n",
    "        conv4　=　L.Convolution2D(64, 128, 3,　strid=2),  #34->30->15\n",
    "        conv5　=　L.Convolution2D(128, 128, 3),\n",
    "        conv6　=　L.Convolution2D(128, 256, 3),\n",
    "        conv7　=　L.Convolution2D(256, 256, 3),\n",
    "        conv8　=　L.Convolution2D(256, 512, 3),\n",
    "        conv9　=　L.Convolution2D(512, 512, 3),\n",
    "        conv10　=　L.Convolution2D(512, 1024, 3),\n",
    "        conv11　=　L.Convolution2D(1024, 2048, 3),\n",
    "        l1　=　L.Linear(None, 256),            \n",
    "        l2　=　L.Linear(None, class_labels)\n",
    "        )\n",
    "        \n",
    "    def __call__(self, x1_data, x2_data):\n",
    "        x1 = chainer.Variable(x1_data.astype(np.float32))\n",
    "        h1 = F.max_pooling_2d(F.relu(self.conv1(x1)), 2)\n",
    "        h2 = F.max_pooling_2d(F.relu(self.conv1(h1)), 2)\n",
    "        h3 = F.max_pooling_2d(F.relu(self.conv1(h2)), 2)\n",
    "        h4 = F.max_pooling_2d(F.relu(self.conv1(h3)), 2)\n",
    "        h5 = F.relu(self.conv5(h4))\n",
    "        h6 = F.relu(self.conv6(h5))\n",
    "        h7 = F.relu(self.conv7(h6))\n",
    "        h8 = F.relu(self.conv8(h7))\n",
    "        h9 = F.relu(self.conv9(h8))\n",
    "        h10 = F.relu(self.conv10(h9))\n",
    "        h11 = F.relu(self.conv10(h10))\n",
    "        h12 = F.relu(self.conv11(h11))\n",
    "        h13 = F.dropout(F.relu(self.l1(h12)))      \n",
    "        y = F.relu(self.l2(h13))\n",
    "        return y\n",
    "\n",
    "    def forward_Train(self, x1_data, x2_data, y_data):\n",
    "        y = self(x1_data, x2_data)\n",
    "        t = chainer.Variable(y_data)\n",
    "        return F.softmax_cross_entropy(y, t), F.accuracy(y,t)\n",
    "    \n",
    "    def forward_Test(self, x_data, y_data):\n",
    "        t = chainer.Variable(y_data)\n",
    "        y = self(x_data)\n",
    "        return F.accuracy(y, t)   \n",
    "       \n",
    "    def forward_label(self, x_data, y_data):\n",
    "        label_list = []\n",
    "        t = chainer.Variable(y_data)\n",
    "        y = self(x_data)"
   ]
  },
  {
   "cell_type": "code",
   "execution_count": 6,
   "metadata": {},
   "outputs": [
    {
     "data": {
      "text/plain": [
       "'\\nif gpu_flag >= 0:\\n    cuda.get_device(gpu_flag).use()\\n    model.to_gpu()\\n'"
      ]
     },
     "execution_count": 6,
     "metadata": {},
     "output_type": "execute_result"
    }
   ],
   "source": [
    "#if use GPU, remove these check\n",
    "\"\"\"\n",
    "gpu_flag = 2\n",
    "if gpu_flag >= 0:\n",
    "    cuda.check_cuda_available()\n",
    "xp = cuda.cupy if gpu_flag >= 0 else np\n",
    "\"\"\"\n",
    "\n",
    "batchsize = 32\n",
    "n_epoch = 200\n",
    "\n",
    "model = OriginalCNN()\n",
    "#serializers.save_hdf5(\"TestNet.h5\",model)\n",
    "\n",
    "optimizer = optimizers.Adam()\n",
    "optimizer.setup(model)\n",
    "\n",
    "\"\"\"\n",
    "if gpu_flag >= 0:\n",
    "    cuda.get_device(gpu_flag).use()\n",
    "    model.to_gpu()\n",
    "\"\"\"    "
   ]
  },
  {
   "cell_type": "code",
   "execution_count": null,
   "metadata": {},
   "outputs": [],
   "source": []
  }
 ],
 "metadata": {
  "kernelspec": {
   "display_name": "Python 3",
   "language": "python",
   "name": "python3"
  },
  "language_info": {
   "codemirror_mode": {
    "name": "ipython",
    "version": 3
   },
   "file_extension": ".py",
   "mimetype": "text/x-python",
   "name": "python",
   "nbconvert_exporter": "python",
   "pygments_lexer": "ipython3",
   "version": "3.6.6"
  }
 },
 "nbformat": 4,
 "nbformat_minor": 2
}
